{
 "cells": [
  {
   "cell_type": "code",
   "execution_count": null,
   "metadata": {},
   "outputs": [],
   "source": [
    "import numpy as np\n",
    "a=np.array([1,2,3,4,5])\n",
    "b=np.array([6,7,8,9,10])\n",
    "\n",
    "#basic operations\n",
    "print (\"array a:\",a)\n",
    "print (\"array b:\",b)\n",
    "print(\"sum of array:\",np.add(a,b))\n",
    "print(\"difference:\",np.subtract(a,b))\n",
    "print(\"product:\",np.multiply(a,b))\n",
    "print(\"division:\",np.divide(a,b))\n",
    "print(\"square:\",np.sqrt(a))\n",
    "print(\"expo:\",np.exp(a))\n",
    "\n",
    "#aggregation op\n",
    "print(\"minimum value a:\",np.min(a))\n",
    "print(\"maximum value a:\",np.max(b))\n",
    "print(\"mean value a:\",np.mean(a))\n",
    "print(\"standard value a:\",np.std(b))\n",
    "print(\"sum of all ele value a:\",np.sum(a))\n",
    "\n",
    "#reshaping array\n",
    "c=np.array([[1,2],[3,4],[5,6]])\n",
    "print(\"array c:\")\n",
    "print(c)\n",
    "print(\"reshapd array c(2 rows,3 columns):\")\n",
    "print(np.reshape(c,(2,3)))\n",
    "\n",
    "#transposing array\n",
    "d=np.array([[1,2,3],[4,5,6]])\n",
    "print(\"array d:\")\n",
    "print(\"transposed array d:\")\n",
    "print(np.transpose(d))\n"
   ]
  }
 ],
 "metadata": {
  "language_info": {
   "name": "python"
  }
 },
 "nbformat": 4,
 "nbformat_minor": 2
}
